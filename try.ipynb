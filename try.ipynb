{
 "cells": [
  {
   "cell_type": "markdown",
   "metadata": {},
   "source": [
    "# Cek Spam atau Scam Chat Indonesia\n",
    "Proses mengecek sebuah chat adalah spam atau bukan menggunakan metode **KNN** dengan model data berasal dari kaggle *GEVABRIEL | Data Set **Indonesia SMS Spam*** yang telah ditambahkan beberapa data tambahan dan diubah menjadi file excel"
   ]
  },
  {
   "cell_type": "code",
   "execution_count": 1,
   "metadata": {},
   "outputs": [
    {
     "data": {
      "text/html": [
       "<div>\n",
       "<style scoped>\n",
       "    .dataframe tbody tr th:only-of-type {\n",
       "        vertical-align: middle;\n",
       "    }\n",
       "\n",
       "    .dataframe tbody tr th {\n",
       "        vertical-align: top;\n",
       "    }\n",
       "\n",
       "    .dataframe thead th {\n",
       "        text-align: right;\n",
       "    }\n",
       "</style>\n",
       "<table border=\"1\" class=\"dataframe\">\n",
       "  <thead>\n",
       "    <tr style=\"text-align: right;\">\n",
       "      <th></th>\n",
       "      <th>pesan</th>\n",
       "      <th>kategori</th>\n",
       "    </tr>\n",
       "  </thead>\n",
       "  <tbody>\n",
       "    <tr>\n",
       "      <th>0</th>\n",
       "      <td>Terimakasih rekan semua utk yg hadir. Bukti ke...</td>\n",
       "      <td>ham</td>\n",
       "    </tr>\n",
       "    <tr>\n",
       "      <th>1</th>\n",
       "      <td>PESAN RESMI dari\\nPT.M-KIOS\\nAnda mendapatkan ...</td>\n",
       "      <td>spam</td>\n",
       "    </tr>\n",
       "    <tr>\n",
       "      <th>2</th>\n",
       "      <td>Anda terdaftar sbgai pemenang LAZADA M-dptkan\\...</td>\n",
       "      <td>spam</td>\n",
       "    </tr>\n",
       "    <tr>\n",
       "      <th>3</th>\n",
       "      <td>ada gua denger</td>\n",
       "      <td>ham</td>\n",
       "    </tr>\n",
       "    <tr>\n",
       "      <th>4</th>\n",
       "      <td>NASABAH Yth.\\nDiminta ke KANTOR karna REKENING...</td>\n",
       "      <td>spam</td>\n",
       "    </tr>\n",
       "  </tbody>\n",
       "</table>\n",
       "</div>"
      ],
      "text/plain": [
       "                                               pesan kategori\n",
       "0  Terimakasih rekan semua utk yg hadir. Bukti ke...      ham\n",
       "1  PESAN RESMI dari\\nPT.M-KIOS\\nAnda mendapatkan ...     spam\n",
       "2  Anda terdaftar sbgai pemenang LAZADA M-dptkan\\...     spam\n",
       "3                                     ada gua denger      ham\n",
       "4  NASABAH Yth.\\nDiminta ke KANTOR karna REKENING...     spam"
      ]
     },
     "execution_count": 1,
     "metadata": {},
     "output_type": "execute_result"
    }
   ],
   "source": [
    "# Menambahkan Libary\n",
    "import pandas as pd\n",
    "import numpy as np\n",
    "from sklearn.model_selection import train_test_split\n",
    "from sklearn.feature_extraction.text import TfidfVectorizer\n",
    "from sklearn.neighbors import KNeighborsClassifier\n",
    "import matplotlib.pyplot as plt\n",
    "from sklearn.metrics import classification_report\n",
    "from sklearn.metrics import confusion_matrix\n",
    "from sklearn.metrics import ConfusionMatrixDisplay\n",
    "\n",
    "# Membaca model data\n",
    "data = pd.read_excel(\"Model/model_pesan.xlsx\")\n",
    "data.head()"
   ]
  },
  {
   "cell_type": "markdown",
   "metadata": {},
   "source": [
    "## Filter Data\n",
    "Pada model data yang digunakan terdapat 2 kategori untuk pesan, yaitu **spam** dan **ham**. Untuk mempermudah proses pembuatan program kedua nilai tersebut diubah menjadi **1 untuk *spam*** dan **0 untuk *ham***."
   ]
  },
  {
   "cell_type": "code",
   "execution_count": 2,
   "metadata": {},
   "outputs": [
    {
     "data": {
      "text/html": [
       "<div>\n",
       "<style scoped>\n",
       "    .dataframe tbody tr th:only-of-type {\n",
       "        vertical-align: middle;\n",
       "    }\n",
       "\n",
       "    .dataframe tbody tr th {\n",
       "        vertical-align: top;\n",
       "    }\n",
       "\n",
       "    .dataframe thead th {\n",
       "        text-align: right;\n",
       "    }\n",
       "</style>\n",
       "<table border=\"1\" class=\"dataframe\">\n",
       "  <thead>\n",
       "    <tr style=\"text-align: right;\">\n",
       "      <th></th>\n",
       "      <th>pesan</th>\n",
       "      <th>kategori</th>\n",
       "    </tr>\n",
       "  </thead>\n",
       "  <tbody>\n",
       "    <tr>\n",
       "      <th>0</th>\n",
       "      <td>Terimakasih rekan semua utk yg hadir. Bukti ke...</td>\n",
       "      <td>0</td>\n",
       "    </tr>\n",
       "    <tr>\n",
       "      <th>1</th>\n",
       "      <td>PESAN RESMI dari\\nPT.M-KIOS\\nAnda mendapatkan ...</td>\n",
       "      <td>1</td>\n",
       "    </tr>\n",
       "    <tr>\n",
       "      <th>2</th>\n",
       "      <td>Anda terdaftar sbgai pemenang LAZADA M-dptkan\\...</td>\n",
       "      <td>1</td>\n",
       "    </tr>\n",
       "    <tr>\n",
       "      <th>3</th>\n",
       "      <td>ada gua denger</td>\n",
       "      <td>0</td>\n",
       "    </tr>\n",
       "    <tr>\n",
       "      <th>4</th>\n",
       "      <td>NASABAH Yth.\\nDiminta ke KANTOR karna REKENING...</td>\n",
       "      <td>1</td>\n",
       "    </tr>\n",
       "  </tbody>\n",
       "</table>\n",
       "</div>"
      ],
      "text/plain": [
       "                                               pesan  kategori\n",
       "0  Terimakasih rekan semua utk yg hadir. Bukti ke...         0\n",
       "1  PESAN RESMI dari\\nPT.M-KIOS\\nAnda mendapatkan ...         1\n",
       "2  Anda terdaftar sbgai pemenang LAZADA M-dptkan\\...         1\n",
       "3                                     ada gua denger         0\n",
       "4  NASABAH Yth.\\nDiminta ke KANTOR karna REKENING...         1"
      ]
     },
     "execution_count": 2,
     "metadata": {},
     "output_type": "execute_result"
    }
   ],
   "source": [
    "data['kategori'] = data['kategori'].map({'spam':1, 'ham':0})\n",
    "data.head()"
   ]
  },
  {
   "cell_type": "markdown",
   "metadata": {},
   "source": [
    ">Kemudian lakukan pengecekan terhadap variable pesan dan kategori tidak ada nilai variable yang NULL untuk mempermudah proses pengolahan data."
   ]
  },
  {
   "cell_type": "code",
   "execution_count": 3,
   "metadata": {},
   "outputs": [
    {
     "name": "stdout",
     "output_type": "stream",
     "text": [
      "<class 'pandas.core.frame.DataFrame'>\n",
      "RangeIndex: 1157 entries, 0 to 1156\n",
      "Data columns (total 2 columns):\n",
      " #   Column    Non-Null Count  Dtype \n",
      "---  ------    --------------  ----- \n",
      " 0   pesan     1157 non-null   object\n",
      " 1   kategori  1157 non-null   int64 \n",
      "dtypes: int64(1), object(1)\n",
      "memory usage: 18.2+ KB\n"
     ]
    }
   ],
   "source": [
    "data.info()"
   ]
  },
  {
   "cell_type": "markdown",
   "metadata": {},
   "source": [
    "## Pengolahan Data\n",
    "Untuk melakukan proses pengolah data variable pesan diubah menjadi nilai matrix dari dari panjang pesannya. Kemudian data model yang dimiliki tersebut dibagi menjadi 2 model sebagai **train** dan **test**.\n",
    ">Model untuk test hanya menggunakan 20% dari jumlah total model pesan yang dimiliki"
   ]
  },
  {
   "cell_type": "code",
   "execution_count": 4,
   "metadata": {},
   "outputs": [],
   "source": [
    "vectorizer = TfidfVectorizer()\n",
    "X = vectorizer.fit_transform(data['pesan'])\n",
    "y = data['kategori']\n",
    "X_train, X_test, y_train, y_test = train_test_split(X, y, test_size=0.2)"
   ]
  },
  {
   "cell_type": "markdown",
   "metadata": {},
   "source": [
    "### Analisis Akurasi nilai-K\n",
    "Lakukan pengujian untuk nilai K dengan score terbaik untuk digunakan pada model KNN nantinya menggunakan model data train. \n",
    ">Pada percobaan ini menggunkan nilai K dari 1 sampai 25"
   ]
  },
  {
   "cell_type": "code",
   "execution_count": 5,
   "metadata": {},
   "outputs": [
    {
     "data": {
      "image/png": "[encoded data removed]",
      "text/plain": [
       "<Figure size 640x480 with 1 Axes>"
      ]
     },
     "metadata": {},
     "output_type": "display_data"
    },
    {
     "name": "stdout",
     "output_type": "stream",
     "text": [
      "Optimal K: 10 & Max Accuracy : 0.978\n"
     ]
    }
   ],
   "source": [
    "# Set nilai K uji dan list untuk simpan scores\n",
    "K = np.arange(1,25)\n",
    "scores = []\n",
    "\n",
    "for k in K:\n",
    "    model_check = KNeighborsClassifier(n_neighbors=k)\n",
    "    model_check.fit(X_train,y_train)\n",
    "    score = model_check.score(X_test,y_test)\n",
    "    scores.append(score)\n",
    "\n",
    "# Plot akurasi untuk cek nilai K\n",
    "plt.plot(K, scores, marker='o', color='red')\n",
    "plt.title(\"KNN Akurasi Nilai K\")\n",
    "plt.xlabel(\"K\")\n",
    "plt.ylabel(\"Akurasi\")\n",
    "plt.grid(True)\n",
    "plt.show()\n",
    "\n",
    "# Menemukan nilai K optimal\n",
    "optimal_k = K[np.argmax(scores)]\n",
    "max_accuracy = max(scores)\n",
    "\n",
    "print(f\"Optimal K: {optimal_k} & Max Accuracy : {max_accuracy:.3f}\")"
   ]
  },
  {
   "cell_type": "markdown",
   "metadata": {},
   "source": [
    "### Pengujian Model\n",
    "Melakukan proses pengujian menggunakan model test. Kemudian, membandingkan hasil dari prediksi tersebut dengan nilai sebenarnya pada model test. \n",
    ">Untuk melihat hasil perbandingan tersebut menggunakan *grafik confusion matrix*"
   ]
  },
  {
   "cell_type": "code",
   "execution_count": 6,
   "metadata": {},
   "outputs": [
    {
     "data": {
      "image/png": "[encoded data removed]",
      "text/plain": [
       "<Figure size 640x480 with 2 Axes>"
      ]
     },
     "metadata": {},
     "output_type": "display_data"
    },
    {
     "name": "stdout",
     "output_type": "stream",
     "text": [
      "              precision    recall  f1-score   support\n",
      "\n",
      "           0       1.00      0.96      0.98       115\n",
      "           1       0.96      1.00      0.98       117\n",
      "\n",
      "    accuracy                           0.98       232\n",
      "   macro avg       0.98      0.98      0.98       232\n",
      "weighted avg       0.98      0.98      0.98       232\n",
      "\n"
     ]
    }
   ],
   "source": [
    "model = KNeighborsClassifier(n_neighbors=optimal_k)\n",
    "model.fit(X_train,y_train)\n",
    "y_pred = model.predict(X_test)\n",
    "\n",
    "# Membuat grafik confusion matrix\n",
    "cm =confusion_matrix(y_test,y_pred)\n",
    "disp = ConfusionMatrixDisplay(confusion_matrix=cm, display_labels=model.classes_)\n",
    "disp.plot()\n",
    "plt.show()\n",
    "\n",
    "# Membuat report hasil prediksi\n",
    "print(classification_report(y_test,y_pred))"
   ]
  },
  {
   "cell_type": "markdown",
   "metadata": {},
   "source": [
    "## Percobaan\n",
    "Berdasarkan hasil pengujian yang dirasa sudah cukup, maka dapat langsung dilakukan proses pengujian dengan melakukan inputan langsung."
   ]
  },
  {
   "cell_type": "code",
   "execution_count": 14,
   "metadata": {},
   "outputs": [
    {
     "name": "stdout",
     "output_type": "stream",
     "text": [
      "Isi Pesan :\n",
      "Ga tahu ah mau kirim pesan apa\n",
      "Ini Bukan SPAM\n"
     ]
    }
   ],
   "source": [
    "# Minta input dari pengguna\n",
    "new_chat = input(\"Masukkan pesan: \\n\")\n",
    "print(f\"Isi Pesan :\\n{new_chat}\")\n",
    "\n",
    "# Ubah pesan menjadi vektor fitur\n",
    "new_chat = vectorizer.transform([new_chat])\n",
    "\n",
    "# Prediksi label pesan\n",
    "pred = model.predict(new_chat)\n",
    "\n",
    "# Cetak hasil prediksi\n",
    "if pred == 0:\n",
    "    print(\"Ini Bukan SPAM\")\n",
    "else:\n",
    "    print(\"Ini kemungkinan adalah Pesan SCAM termasuk SPAM\")"
   ]
  }
 ],
 "metadata": {
  "kernelspec": {
   "display_name": "env",
   "language": "python",
   "name": "python3"
  },
  "language_info": {
   "codemirror_mode": {
    "name": "ipython",
    "version": 3
   },
   "file_extension": ".py",
   "mimetype": "text/x-python",
   "name": "python",
   "nbconvert_exporter": "python",
   "pygments_lexer": "ipython3",
   "version": "3.12.2"
  }
 },
 "nbformat": 4,
 "nbformat_minor": 2
}
